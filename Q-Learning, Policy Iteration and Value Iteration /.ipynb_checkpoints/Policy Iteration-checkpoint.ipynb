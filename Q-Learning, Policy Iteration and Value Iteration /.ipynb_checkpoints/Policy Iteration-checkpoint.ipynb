{
 "cells": [
  {
   "cell_type": "code",
   "execution_count": 1,
   "id": "a0956e6e",
   "metadata": {},
   "outputs": [
    {
     "name": "stderr",
     "output_type": "stream",
     "text": [
      "\n"
     ]
    }
   ],
   "source": [
    "#import all the packages\n",
    "#load the gym library\n",
    "import gym\n",
    "import numpy as np\n",
    "from numpy import linalg as L2\n",
    "import seaborn\n",
    "import matplotlib.pyplot as plt\n",
    "from matplotlib.colors import LogNorm\n",
    "import numpy as np\n",
    "#creating the environment\n",
    "env = gym.make('FrozenLake-v1', desc=None,map_name=\"4x4\", is_slippery=True)"
   ]
  },
  {
   "cell_type": "code",
   "execution_count": 2,
   "id": "5bdcfef4",
   "metadata": {},
   "outputs": [],
   "source": [
    "#policy evaluation function used in policy iteration\n",
    "def policy_evaluation(env,policy):\n",
    "    max_iterations = 30\n",
    "    #discountfactor\n",
    "    gamma = 0.9\n",
    "    #initiailize statevalue\n",
    "    value = np.zeros(16)\n",
    "    #initialize q values\n",
    "    q_values = np.zeros((16,4))\n",
    "    #initialize next state values\n",
    "    nextstatevalue = np.zeros(16) \n",
    "    for i in range(max_iterations):\n",
    "        #iterating through all possible states\n",
    "        for state in range(16):\n",
    "            #initialize actionvalues\n",
    "            actionvalues = []    \n",
    "            statevalue = 0\n",
    "            #policy gives the action to be taken\n",
    "            for i in range(len(env.P[state][policy[state]])):\n",
    "                #obtain prob and rewards from environment\n",
    "                prob, next_s, r, terminal = env.P[state][policy[state]][i]\n",
    "                #update until convergence\n",
    "                value_stateaction = prob * (r + gamma*value[next_s])\n",
    "                statevalue = statevalue + value_stateaction\n",
    "            q_values[state,policy[state]] = statevalue\n",
    "            actionvalues.append(statevalue)\n",
    "            idealaction = np.argmax(np.asarray(actionvalues))\n",
    "            #next state value is obtained from the ideal action\n",
    "            nextstatevalue[state] = actionvalues[idealaction]\n",
    "            \n",
    "        #To know when to breakout of the loop        \n",
    "        if i > 100 :\n",
    "            if sum(value) - sum(nextstatevalue) < 1e-05:\n",
    "                break\n",
    "                print(i)\n",
    "        else:\n",
    "            value = nextstatevalue.copy()\n",
    "    return value, q_values"
   ]
  },
  {
   "cell_type": "code",
   "execution_count": 3,
   "id": "54a86506",
   "metadata": {},
   "outputs": [],
   "source": [
    "#policy improvement function used in policy iteration\n",
    "def policy_improvement(env,value):\n",
    "    gamma = 0.9\n",
    "    policy = [0 for i in range(16)]\n",
    "    for state in range(16):\n",
    "        actionvalues = []\n",
    "        for action in range(4):\n",
    "            actionvalue = 0\n",
    "            for i in range(len(env.P[state][action])):\n",
    "                prob, next_s, r, terminal = env.P[state][action][i]\n",
    "                actionvalue += prob * (r + gamma * value[next_s])\n",
    "            actionvalues.append(actionvalue)\n",
    "        idealaction= np.argmax(np.asarray(actionvalues))\n",
    "        #obtain the policy\n",
    "        policy[state] = idealaction\n",
    "\n",
    "    return policy"
   ]
  },
  {
   "cell_type": "code",
   "execution_count": 4,
   "id": "4c490580",
   "metadata": {},
   "outputs": [],
   "source": [
    "#policy = np.random.randint(0,4,16)\n",
    "def policy_iteration(env):\n",
    "    policy = [(s+1)%4 for s in range(16)]\n",
    "    count2 = 0\n",
    "    change = []\n",
    "    max_iterations = 30\n",
    "    #keep on evaluating and improving the policy until convergence\n",
    "    while count2 <= max_iterations:\n",
    "        count2 = count2 + 1\n",
    "        value,q_values = policy_evaluation(env,policy)\n",
    "        change.append(value)\n",
    "        policy = policy_improvement(env,value)\n",
    "        \n",
    "        \n",
    "\n",
    "    return value,q_values,policy,change\n"
   ]
  },
  {
   "cell_type": "code",
   "execution_count": 5,
   "id": "e5c9e838",
   "metadata": {},
   "outputs": [],
   "source": [
    "#to visualize policy iteration through heatmap\n",
    "%matplotlib inline\n",
    "import seaborn\n",
    "import matplotlib.pyplot as plt\n",
    "from matplotlib.colors import LogNorm\n",
    "import numpy as np\n",
    "def fancy_visual(value_func,policy_int):    \n",
    "    grid = 4    \n",
    "    f, ax = plt.subplots(figsize=(11, 9))\n",
    "    cmap = seaborn.diverging_palette(220, 10, as_cmap=True)\n",
    "    reshaped = np.reshape(value_func,(grid,grid))\n",
    "    seaborn.heatmap(reshaped, cmap=\"icefire\",vmax=1.1, robust = True,\n",
    "                square=True, xticklabels=grid+1, yticklabels=grid+1,\n",
    "                linewidths=.5, cbar_kws={\"shrink\": .5}, ax=ax, annot=True, fmt=\"f\")\n",
    "    counter = 0\n",
    "    for j in range(0, 4):\n",
    "        for i in range(0, 4):\n",
    "            if int(policy_int[counter]) == 1:\n",
    "                plt.text(i+0.5, j+0.7, u'\\u2193', fontsize=12)\n",
    "            elif int(policy_int[counter]) == 3:\n",
    "                plt.text(i+0.5, j+0.7, u'\\u2191', fontsize=12)\n",
    "            elif int(policy_int[counter]) == 0:\n",
    "                plt.text(i+0.5, j+0.7, u'\\u2190', fontsize=12)\n",
    "            else:\n",
    "                plt.text(i+0.5, j+0.7, u'\\u2192', fontsize=12)\n",
    "            counter=counter+1\n",
    "\n",
    "    plt.title('Heatmap of policy iteration with value function values and directions')\n",
    "    print('Value Function',value)\n",
    "    print('Policy',policy)\n",
    "    plt.show()\n",
    "\n"
   ]
  },
  {
   "cell_type": "code",
   "execution_count": 6,
   "id": "483b0b65",
   "metadata": {},
   "outputs": [
    {
     "name": "stdout",
     "output_type": "stream",
     "text": [
      "Value Function [0.06453857 0.05774266 0.07173239 0.05289185 0.08788273 0.\n",
      " 0.11075466 0.         0.14219901 0.24529286 0.29806497 0.\n",
      " 0.         0.37832726 0.63817105 0.        ]\n",
      "Policy [0, 3, 0, 3, 0, 0, 0, 0, 3, 1, 0, 0, 0, 2, 1, 0]\n"
     ]
    },
    {
     "data": {
      "image/png": "[encoded data removed]",
      "text/plain": [
       "<Figure size 792x648 with 2 Axes>"
      ]
     },
     "metadata": {
      "needs_background": "light"
     },
     "output_type": "display_data"
    }
   ],
   "source": [
    "#Obtaining the value function, policy and visualizing the heat map for policy iteration\n",
    "value,q_values,policy,change = policy_iteration(env)\n",
    "fancy_visual(value,policy)"
   ]
  },
  {
   "cell_type": "code",
   "execution_count": 7,
   "id": "296db3e2",
   "metadata": {},
   "outputs": [
    {
     "data": {
      "text/plain": [
       "Text(0, 0.5, 'Difference showing ||Vpik - Vpik-1||')"
      ]
     },
     "execution_count": 7,
     "metadata": {},
     "output_type": "execute_result"
    },
    {
     "data": {
      "image/png": "[encoded data removed]",
      "text/plain": [
       "<Figure size 432x288 with 1 Axes>"
      ]
     },
     "metadata": {
      "needs_background": "light"
     },
     "output_type": "display_data"
    }
   ],
   "source": [
    "#plot showing convergence\n",
    "difference = []\n",
    "for i in range(len(change)-1):\n",
    "    difference.append(L2.norm(change[i+1]-change[i]))\n",
    "    \n",
    "plt.plot(difference)\n",
    "plt.title('Plot showing convergence (||Vpik - Vpik-1||)')\n",
    "plt.xlabel('Number of iterations')\n",
    "plt.ylabel('Difference showing ||Vpik - Vpik-1||')"
   ]
  },
  {
   "cell_type": "code",
   "execution_count": 10,
   "id": "2bead692",
   "metadata": {},
   "outputs": [],
   "source": [
    "#function the gives q values\n",
    "def q_values(env,value):\n",
    "    max_iterations = 1\n",
    "    #statevalue\n",
    "    gamma = 0.9\n",
    "    q_values = np.zeros((16,4))  #newStateValue\n",
    "    for state in range(16):\n",
    "        actionvalues = []     #actionvalues\n",
    "        for action in range(4):\n",
    "            statevalue = 0\n",
    "            for j in range(len(env.P[state][action])):\n",
    "                prob, next_s, r, terminal = env.P[state][action][j]\n",
    "                value_stateaction = prob * (r + gamma*value[next_s])\n",
    "                statevalue = statevalue + value_stateaction\n",
    "            q_values[state,action] = statevalue\n",
    "            \n",
    "    return q_values"
   ]
  },
  {
   "cell_type": "code",
   "execution_count": 11,
   "id": "3a2db0ce",
   "metadata": {},
   "outputs": [
    {
     "data": {
      "text/plain": [
       "array([[0.06508796, 0.06304919, 0.06304919, 0.05604594],\n",
       "       [0.03668437, 0.04088129, 0.03884252, 0.05820409],\n",
       "       [0.07206891, 0.06641675, 0.07061367, 0.05471007],\n",
       "       [0.03738727, 0.03738727, 0.03173511, 0.05325482],\n",
       "       [0.0883861 , 0.06902452, 0.06202128, 0.04572639],\n",
       "       [0.        , 0.        , 0.        , 0.        ],\n",
       "       [0.11093921, 0.08941949, 0.11093921, 0.02151972],\n",
       "       [0.        , 0.        , 0.        , 0.        ],\n",
       "       [0.06902452, 0.11624756, 0.09995268, 0.14261238],\n",
       "       [0.15615788, 0.24557737, 0.20291767, 0.13207919],\n",
       "       [0.29826557, 0.26503917, 0.22467771, 0.10681426],\n",
       "       [0.        , 0.        , 0.        , 0.        ],\n",
       "       [0.        , 0.        , 0.        , 0.        ],\n",
       "       [0.18708604, 0.30494949, 0.37853735, 0.26503917],\n",
       "       [0.39436898, 0.63828283, 0.61420414, 0.536251  ],\n",
       "       [0.        , 0.        , 0.        , 0.        ]])"
      ]
     },
     "execution_count": 11,
     "metadata": {},
     "output_type": "execute_result"
    }
   ],
   "source": [
    "Q = q_values(env,value)\n",
    "Q"
   ]
  },
  {
   "cell_type": "code",
   "execution_count": 12,
   "id": "b0fea129",
   "metadata": {},
   "outputs": [
    {
     "name": "stdout",
     "output_type": "stream",
     "text": [
      "Optimal Q-function : [0.0650879618141005, 0.05820408610561083, 0.07206891378819122, 0.05325482420091035, 0.08838609510028968, 0.0, 0.11093920713869705, 0.0, 0.14261238187473238, 0.24557737293798892, 0.29826557036897466, 0.0, 0.0, 0.3785373497924487, 0.6382828252576334, 0.0]\n"
     ]
    }
   ],
   "source": [
    "#optimal q-value\n",
    "optimal_qvalue = []\n",
    "for i in range(16):\n",
    "    optimal_qvalue.append(np.max(Q[i]))\n",
    "    \n",
    "print(\"Optimal Q-function :\", optimal_qvalue)"
   ]
  }
 ],
 "metadata": {
  "kernelspec": {
   "display_name": "Python 3 (ipykernel)",
   "language": "python",
   "name": "python3"
  },
  "language_info": {
   "codemirror_mode": {
    "name": "ipython",
    "version": 3
   },
   "file_extension": ".py",
   "mimetype": "text/x-python",
   "name": "python",
   "nbconvert_exporter": "python",
   "pygments_lexer": "ipython3",
   "version": "3.9.7"
  }
 },
 "nbformat": 4,
 "nbformat_minor": 5
}
