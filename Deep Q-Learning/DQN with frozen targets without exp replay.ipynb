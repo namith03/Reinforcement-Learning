{
 "cells": [
  {
   "cell_type": "code",
   "execution_count": 120,
   "id": "fea93a04",
   "metadata": {},
   "outputs": [],
   "source": [
    "import gym\n",
    "import random\n",
    "import torch\n",
    "import torch.nn as nn\n",
    "import torch.nn.functional as F\n",
    "import torch.optim as optim\n",
    "import matplotlib.pyplot as plt\n",
    "import base64, io\n",
    "\n",
    "import numpy as np\n",
    "from collections import deque, namedtuple\n",
    "import Box2D"
   ]
  },
  {
   "cell_type": "code",
   "execution_count": 121,
   "id": "491934fa",
   "metadata": {},
   "outputs": [
    {
     "name": "stdout",
     "output_type": "stream",
     "text": [
      "State shape:  (8,)\n",
      "Number of actions:  4\n"
     ]
    }
   ],
   "source": [
    "env = gym.make(\"LunarLander-v2\")\n",
    "env.seed(0)\n",
    "print('State shape: ', env.observation_space.shape)\n",
    "print('Number of actions: ', env.action_space.n)"
   ]
  },
  {
   "cell_type": "code",
   "execution_count": 122,
   "id": "de648612",
   "metadata": {},
   "outputs": [],
   "source": [
    "class QNetwork(nn.Module):\n",
    "\n",
    "\n",
    "    def __init__(self, state_size, action_size, seed):\n",
    "   \n",
    "        super(QNetwork, self).__init__()\n",
    "        self.seed = torch.manual_seed(seed)\n",
    "        self.fc1 = nn.Linear(state_size, 128)\n",
    "        self.fc2 = nn.Linear(128, 128)\n",
    "        self.fc3 = nn.Linear(128, action_size)\n",
    "        \n",
    "    def forward(self, state):\n",
    "\n",
    "        x = self.fc1(state)\n",
    "        x = F.relu(x)\n",
    "        x = self.fc2(x)\n",
    "        x = F.relu(x)\n",
    "        return self.fc3(x)"
   ]
  },
  {
   "cell_type": "code",
   "execution_count": 123,
   "id": "cd857c7e",
   "metadata": {},
   "outputs": [],
   "source": [
    "BUFFER_SIZE = int(1e5)  # replay buffer size\n",
    "BATCH_SIZE = 64         # minibatch size\n",
    "GAMMA = 0.99            # discount factor\n",
    "TAU = 1e-3              # for soft update of target parameters\n",
    "LR = 5e-4               # learning rate \n",
    "UPDATE_EVERY = 4        # how often to update the network"
   ]
  },
  {
   "cell_type": "code",
   "execution_count": 124,
   "id": "5a6ceb21",
   "metadata": {},
   "outputs": [],
   "source": [
    "device = torch.device(\"cuda:0\" if torch.cuda.is_available() else \"cpu\")"
   ]
  },
  {
   "cell_type": "code",
   "execution_count": 125,
   "id": "168c5e31",
   "metadata": {},
   "outputs": [],
   "source": [
    "class Agent():\n",
    "\n",
    "\n",
    "    def __init__(self, state_size, action_size, seed):\n",
    "  \n",
    "       \n",
    "        self.state_size = state_size\n",
    "        self.action_size = action_size\n",
    "        self.seed = random.seed(seed)\n",
    "\n",
    "        # Q-Network\n",
    "        self.qnetwork_local = QNetwork(state_size, action_size, seed).to(device)\n",
    "        self.qnetwork_target = QNetwork(state_size, action_size, seed).to(device)\n",
    "        self.optimizer = optim.Adam(self.qnetwork_local.parameters(), lr=LR)\n",
    "\n",
    "        # Replay memory\n",
    "        self.memory = ReplayBuffer(action_size, BUFFER_SIZE, BATCH_SIZE, seed)\n",
    "        # Initialize time step (for updating every UPDATE_EVERY steps)\n",
    "        self.t_step = 0\n",
    "    \n",
    "    def step(self, state, action, reward, next_state, done):\n",
    "        # Save experience in replay memory\n",
    "        self.memory.add(state, action, reward, next_state, done)\n",
    "        \n",
    "        # Learn every UPDATE_EVERY time steps.\n",
    "        self.t_step = (self.t_step + 1) % UPDATE_EVERY\n",
    "        if self.t_step == 0:\n",
    "            # If enough samples are available in memory, get random subset and learn\n",
    "            if len(self.memory) > BATCH_SIZE:\n",
    "                experiences = self.memory.sample()\n",
    "                self.learn(experiences, GAMMA)\n",
    "\n",
    "    def act(self, state, eps=0.):\n",
    "       \n",
    "        state = torch.from_numpy(state).float().unsqueeze(0).to(device)\n",
    "        self.qnetwork_local.eval()\n",
    "        with torch.no_grad():\n",
    "            action_values = self.qnetwork_local(state)\n",
    "        self.qnetwork_local.train()\n",
    "\n",
    "        # Epsilon-greedy action selection\n",
    "        if random.random() > eps:\n",
    "            return np.argmax(action_values.cpu().data.numpy())\n",
    "        else:\n",
    "            return random.choice(np.arange(self.action_size))\n",
    "\n",
    "    def learn(self, experiences, gamma):\n",
    "      \n",
    "        # Obtain random minibatch of tuples from D\n",
    "        states, actions, rewards, next_states, dones = experiences\n",
    "\n",
    "        ## Compute and minimize the loss\n",
    "        ### Extract next maximum estimated value from target network\n",
    "        q_targets_next = self.qnetwork_target(next_states).detach().max(1)[0].unsqueeze(1)\n",
    "        ### Calculate target value from bellman equation\n",
    "        q_targets = rewards + gamma * q_targets_next * (1 - dones)\n",
    "        ### Calculate expected value from local network\n",
    "        q_expected = self.qnetwork_local(states).gather(1, actions)\n",
    "        \n",
    "        ### Loss calculation (we used Mean squared error)\n",
    "        loss = F.mse_loss(q_expected, q_targets)\n",
    "        self.optimizer.zero_grad()\n",
    "        loss.backward()\n",
    "        self.optimizer.step()\n",
    "\n",
    "        # ------------------- update target network ------------------- #\n",
    "        self.soft_update(self.qnetwork_local, self.qnetwork_target, TAU)                     \n",
    "\n",
    "    def soft_update(self, local_model, target_model, tau):\n",
    "      \n",
    "        for target_param, local_param in zip(target_model.parameters(), local_model.parameters()):\n",
    "            target_param.data.copy_(tau*local_param.data + (1.0-tau)*target_param.data)"
   ]
  },
  {
   "cell_type": "code",
   "execution_count": 126,
   "id": "59a5a34a",
   "metadata": {},
   "outputs": [],
   "source": [
    "class ReplayBuffer:\n",
    "  \n",
    "\n",
    "    def __init__(self, action_size, buffer_size, batch_size, seed):\n",
    "        \n",
    "        self.action_size = action_size\n",
    "        self.memory = deque(maxlen=buffer_size)  \n",
    "        self.batch_size = batch_size\n",
    "        self.experience = namedtuple(\"Experience\", field_names=[\"state\", \"action\", \"reward\", \"next_state\", \"done\"])\n",
    "        self.seed = random.seed(seed)\n",
    "    \n",
    "    def add(self, state, action, reward, next_state, done):\n",
    "\n",
    "        e = self.experience(state, action, reward, next_state, done)\n",
    "        self.memory.append(e)\n",
    "    \n",
    "    def sample(self):\n",
    "  \n",
    "        experiences = random.sample(self.memory, k=self.batch_size)\n",
    "\n",
    "        states = torch.from_numpy(np.vstack([e.state for e in experiences if e is not None])).float().to(device)\n",
    "        actions = torch.from_numpy(np.vstack([e.action for e in experiences if e is not None])).long().to(device)\n",
    "        rewards = torch.from_numpy(np.vstack([e.reward for e in experiences if e is not None])).float().to(device)\n",
    "        next_states = torch.from_numpy(np.vstack([e.next_state for e in experiences if e is not None])).float().to(device)\n",
    "        dones = torch.from_numpy(np.vstack([e.done for e in experiences if e is not None]).astype(np.uint8)).float().to(device)\n",
    "  \n",
    "        return (states, actions, rewards, next_states, dones)\n",
    "\n",
    "    def __len__(self):\n",
    "      \n",
    "        return len(self.memory)"
   ]
  },
  {
   "cell_type": "code",
   "execution_count": 127,
   "id": "c8b4f591",
   "metadata": {},
   "outputs": [
    {
     "data": {
      "text/plain": [
       "'\\nagent = Agent(state_size=8, action_size=4, seed=0)\\nscores = dqn()\\n'"
      ]
     },
     "execution_count": 127,
     "metadata": {},
     "output_type": "execute_result"
    }
   ],
   "source": [
    "def dqn(n_episodes=2000, max_t=1000, eps_start=1.0, eps_end=0.01, eps_decay=0.995):\n",
    "\n",
    "    scores = []                        # list containing scores from each episode\n",
    "    scores_window = deque(maxlen=100)  # last 100 scores\n",
    "    eps = eps_start                    # initialize epsilon\n",
    "    for i_episode in range(1, n_episodes+1):\n",
    "        state = env.reset()\n",
    "        score = 0\n",
    "        for t in range(max_t):\n",
    "            action = agent.act(state, eps)\n",
    "            next_state, reward, done, _ = env.step(action)\n",
    "            agent.step(state, action, reward, next_state, done)\n",
    "            state = next_state\n",
    "            score += reward\n",
    "            if done:\n",
    "                break \n",
    "        scores_window.append(score)       # save most recent score\n",
    "        scores.append(score)              # save most recent score\n",
    "        eps = max(eps_end, eps_decay*eps) # decrease epsilon\n",
    "        print('\\rEpisode {}\\tAverage Score: {:.2f}'.format(i_episode, np.mean(scores_window)), end=\"\")\n",
    "        if i_episode % 100 == 0:\n",
    "            print('\\rEpisode {}\\tAverage Score: {:.2f}'.format(i_episode, np.mean(scores_window)))\n",
    "        if np.mean(scores_window)>=200.0:\n",
    "            print('\\nEnvironment solved in {:d} episodes!\\tAverage Score: {:.2f}'.format(i_episode-100, np.mean(scores_window)))\n",
    "            torch.save(agent.qnetwork_local.state_dict(), 'checkpoint8.pth')\n",
    "            break\n",
    "    return scores\n",
    "\"\"\"\n",
    "agent = Agent(state_size=8, action_size=4, seed=0)\n",
    "scores = dqn()\n",
    "\"\"\"\n"
   ]
  },
  {
   "cell_type": "code",
   "execution_count": 130,
   "id": "6ae03473",
   "metadata": {},
   "outputs": [],
   "source": [
    "from gym.wrappers.monitoring import video_recorder\n",
    "from IPython.display import HTML\n",
    "from IPython import display \n",
    "import glob"
   ]
  },
  {
   "cell_type": "code",
   "execution_count": 131,
   "id": "e56059e1",
   "metadata": {},
   "outputs": [],
   "source": [
    "def show_video(env_name):\n",
    "    mp4list = glob.glob('video/*.mp4')\n",
    "    if len(mp4list) > 0:\n",
    "        mp4 = 'video/{}.mp4'.format(env_name)\n",
    "        video = io.open(mp4, 'r+b').read()\n",
    "        encoded = base64.b64encode(video)\n",
    "        display.display(HTML(data='''<video alt=\"test\" autoplay \n",
    "                loop controls style=\"height: 400px;\">\n",
    "                <source src=\"data:video/mp4;base64,{0}\" type=\"video/mp4\" />\n",
    "             </video>'''.format(encoded.decode('ascii'))))\n",
    "    else:\n",
    "        print(\"Could not find video\")\n",
    "        \n",
    "def show_video_of_model(agent, env_name):\n",
    "    env = gym.make(env_name)\n",
    "    vid = video_recorder.VideoRecorder(env, path=\"video/{}.mp4\".format(env_name))\n",
    "    agent.qnetwork_local.load_state_dict(torch.load('checkpoint-8.pth',map_location='cpu'))\n",
    "    state = env.reset()\n",
    "    done = False\n",
    "    while not done:\n",
    "        frame = env.render(mode='rgb_array')\n",
    "        vid.capture_frame()\n",
    "        \n",
    "        action = agent.act(state)\n",
    "\n",
    "        state, reward, done, _ = env.step(action)        \n",
    "    env.close()"
   ]
  },
  {
   "cell_type": "code",
   "execution_count": 132,
   "id": "30285bec",
   "metadata": {},
   "outputs": [
    {
     "name": "stdout",
     "output_type": "stream",
     "text": [
      "Requirement already satisfied: imageio-ffmpeg in ./anaconda3/lib/python3.9/site-packages (0.4.5)\r\n"
     ]
    }
   ],
   "source": [
    "\n",
    "!pip install imageio-ffmpeg"
   ]
  },
  {
   "cell_type": "code",
   "execution_count": 133,
   "id": "477e44d4",
   "metadata": {},
   "outputs": [],
   "source": [
    "agent = Agent(state_size=8, action_size=4, seed=0)\n",
    "show_video_of_model(agent, 'LunarLander-v2')\n"
   ]
  },
  {
   "cell_type": "code",
   "execution_count": 134,
   "id": "7ea40a70",
   "metadata": {},
   "outputs": [
    {
     "data": {
      "text/html": [
       "<video alt=\"test\" autoplay \n",
       "                loop controls style=\"height: 400px;\">\n",
       "                <source src=\"data:video/mp4;base64,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\" type=\"video/mp4\" />\n",
       "             </video>"
      ],
      "text/plain": [
       "<IPython.core.display.HTML object>"
      ]
     },
     "metadata": {},
     "output_type": "display_data"
    }
   ],
   "source": [
    "show_video('LunarLander-v2')"
   ]
  },
  {
   "cell_type": "code",
   "execution_count": null,
   "id": "f42927e0",
   "metadata": {},
   "outputs": [],
   "source": []
  },
  {
   "cell_type": "code",
   "execution_count": null,
   "id": "c037c53e",
   "metadata": {},
   "outputs": [],
   "source": []
  }
 ],
 "metadata": {
  "kernelspec": {
   "display_name": "Python 3 (ipykernel)",
   "language": "python",
   "name": "python3"
  },
  "language_info": {
   "codemirror_mode": {
    "name": "ipython",
    "version": 3
   },
   "file_extension": ".py",
   "mimetype": "text/x-python",
   "name": "python",
   "nbconvert_exporter": "python",
   "pygments_lexer": "ipython3",
   "version": "3.9.7"
  }
 },
 "nbformat": 4,
 "nbformat_minor": 5
}
